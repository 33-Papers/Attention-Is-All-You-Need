{
  "nbformat": 4,
  "nbformat_minor": 0,
  "metadata": {
    "colab": {
      "provenance": [],
      "gpuType": "T4"
    },
    "kernelspec": {
      "name": "python3",
      "display_name": "Python 3"
    },
    "language_info": {
      "name": "python"
    },
    "accelerator": "GPU"
  },
  "cells": [
    {
      "cell_type": "code",
      "source": [
        "!pip install transformers datasets"
      ],
      "metadata": {
        "id": "3-wyrKgilkY_"
      },
      "execution_count": null,
      "outputs": []
    },
    {
      "cell_type": "code",
      "source": [
        "!pip install torchmetrics"
      ],
      "metadata": {
        "id": "-2lPvPcSmfXu"
      },
      "execution_count": null,
      "outputs": []
    },
    {
      "cell_type": "markdown",
      "source": [
        "Go to config.py file and customize it to change training configurations."
      ],
      "metadata": {
        "id": "dcM0HImxoHqV"
      }
    },
    {
      "cell_type": "code",
      "execution_count": null,
      "metadata": {
        "id": "uemerYGhS38h"
      },
      "outputs": [],
      "source": [
        "!git clone https://github.com/33-Papers/Attention-Is-All-You-Need"
      ]
    },
    {
      "cell_type": "code",
      "source": [
        "!python /content/Attention-Is-All-You-Need/train.py"
      ],
      "metadata": {
        "collapsed": true,
        "id": "_Vjgb5bFS_np"
      },
      "execution_count": null,
      "outputs": []
    }
  ]
}